{
 "cells": [
  {
   "cell_type": "code",
   "execution_count": null,
   "id": "80c1a434-4e63-47ce-b07f-10e2b766b85f",
   "metadata": {},
   "outputs": [
    {
     "name": "stderr",
     "output_type": "stream",
     "text": [
      "huggingface/tokenizers: The current process just got forked, after parallelism has already been used. Disabling parallelism to avoid deadlocks...\n",
      "To disable this warning, you can either:\n",
      "\t- Avoid using `tokenizers` before the fork if possible\n",
      "\t- Explicitly set the environment variable TOKENIZERS_PARALLELISM=(true | false)\n"
     ]
    },
    {
     "name": "stdout",
     "output_type": "stream",
     "text": [
      "Requirement already satisfied: sentence_transformers in /opt/conda/lib/python3.10/site-packages (5.0.0)\n",
      "Requirement already satisfied: transformers<5.0.0,>=4.41.0 in /opt/conda/lib/python3.10/site-packages (from sentence_transformers) (4.53.3)\n",
      "Requirement already satisfied: tqdm in /opt/conda/lib/python3.10/site-packages (from sentence_transformers) (4.67.1)\n",
      "Requirement already satisfied: torch>=1.11.0 in /opt/conda/lib/python3.10/site-packages (from sentence_transformers) (2.7.1)\n",
      "Requirement already satisfied: scikit-learn in /opt/conda/lib/python3.10/site-packages (from sentence_transformers) (1.7.0)\n",
      "Requirement already satisfied: scipy in /opt/conda/lib/python3.10/site-packages (from sentence_transformers) (1.15.3)\n",
      "Requirement already satisfied: huggingface-hub>=0.20.0 in /opt/conda/lib/python3.10/site-packages (from sentence_transformers) (0.33.4)\n",
      "Requirement already satisfied: Pillow in /opt/conda/lib/python3.10/site-packages (from sentence_transformers) (11.3.0)\n",
      "Requirement already satisfied: typing_extensions>=4.5.0 in /opt/conda/lib/python3.10/site-packages (from sentence_transformers) (4.14.1)\n",
      "Requirement already satisfied: filelock in /opt/conda/lib/python3.10/site-packages (from transformers<5.0.0,>=4.41.0->sentence_transformers) (3.18.0)\n",
      "Requirement already satisfied: numpy>=1.17 in /opt/conda/lib/python3.10/site-packages (from transformers<5.0.0,>=4.41.0->sentence_transformers) (2.1.3)\n",
      "Requirement already satisfied: packaging>=20.0 in /opt/conda/lib/python3.10/site-packages (from transformers<5.0.0,>=4.41.0->sentence_transformers) (25.0)\n",
      "Requirement already satisfied: pyyaml>=5.1 in /opt/conda/lib/python3.10/site-packages (from transformers<5.0.0,>=4.41.0->sentence_transformers) (6.0.2)\n",
      "Requirement already satisfied: regex!=2019.12.17 in /opt/conda/lib/python3.10/site-packages (from transformers<5.0.0,>=4.41.0->sentence_transformers) (2024.11.6)\n",
      "Requirement already satisfied: requests in /opt/conda/lib/python3.10/site-packages (from transformers<5.0.0,>=4.41.0->sentence_transformers) (2.32.4)\n",
      "Requirement already satisfied: tokenizers<0.22,>=0.21 in /opt/conda/lib/python3.10/site-packages (from transformers<5.0.0,>=4.41.0->sentence_transformers) (0.21.2)\n",
      "Requirement already satisfied: safetensors>=0.4.3 in /opt/conda/lib/python3.10/site-packages (from transformers<5.0.0,>=4.41.0->sentence_transformers) (0.5.3)\n",
      "Requirement already satisfied: fsspec>=2023.5.0 in /opt/conda/lib/python3.10/site-packages (from huggingface-hub>=0.20.0->sentence_transformers) (2025.7.0)\n",
      "Requirement already satisfied: hf-xet<2.0.0,>=1.1.2 in /opt/conda/lib/python3.10/site-packages (from huggingface-hub>=0.20.0->sentence_transformers) (1.1.5)\n",
      "Requirement already satisfied: sympy>=1.13.3 in /opt/conda/lib/python3.10/site-packages (from torch>=1.11.0->sentence_transformers) (1.14.0)\n",
      "Requirement already satisfied: networkx in /opt/conda/lib/python3.10/site-packages (from torch>=1.11.0->sentence_transformers) (3.4.2)\n",
      "Requirement already satisfied: jinja2 in /opt/conda/lib/python3.10/site-packages (from torch>=1.11.0->sentence_transformers) (3.1.6)\n",
      "Requirement already satisfied: nvidia-cuda-nvrtc-cu12==12.6.77 in /opt/conda/lib/python3.10/site-packages (from torch>=1.11.0->sentence_transformers) (12.6.77)\n",
      "Requirement already satisfied: nvidia-cuda-runtime-cu12==12.6.77 in /opt/conda/lib/python3.10/site-packages (from torch>=1.11.0->sentence_transformers) (12.6.77)\n",
      "Requirement already satisfied: nvidia-cuda-cupti-cu12==12.6.80 in /opt/conda/lib/python3.10/site-packages (from torch>=1.11.0->sentence_transformers) (12.6.80)\n",
      "Requirement already satisfied: nvidia-cudnn-cu12==9.5.1.17 in /opt/conda/lib/python3.10/site-packages (from torch>=1.11.0->sentence_transformers) (9.5.1.17)\n",
      "Requirement already satisfied: nvidia-cublas-cu12==12.6.4.1 in /opt/conda/lib/python3.10/site-packages (from torch>=1.11.0->sentence_transformers) (12.6.4.1)\n",
      "Requirement already satisfied: nvidia-cufft-cu12==11.3.0.4 in /opt/conda/lib/python3.10/site-packages (from torch>=1.11.0->sentence_transformers) (11.3.0.4)\n",
      "Requirement already satisfied: nvidia-curand-cu12==10.3.7.77 in /opt/conda/lib/python3.10/site-packages (from torch>=1.11.0->sentence_transformers) (10.3.7.77)\n",
      "Requirement already satisfied: nvidia-cusolver-cu12==11.7.1.2 in /opt/conda/lib/python3.10/site-packages (from torch>=1.11.0->sentence_transformers) (11.7.1.2)\n",
      "Requirement already satisfied: nvidia-cusparse-cu12==12.5.4.2 in /opt/conda/lib/python3.10/site-packages (from torch>=1.11.0->sentence_transformers) (12.5.4.2)\n",
      "Requirement already satisfied: nvidia-cusparselt-cu12==0.6.3 in /opt/conda/lib/python3.10/site-packages (from torch>=1.11.0->sentence_transformers) (0.6.3)\n",
      "Requirement already satisfied: nvidia-nccl-cu12==2.26.2 in /opt/conda/lib/python3.10/site-packages (from torch>=1.11.0->sentence_transformers) (2.26.2)\n",
      "Requirement already satisfied: nvidia-nvtx-cu12==12.6.77 in /opt/conda/lib/python3.10/site-packages (from torch>=1.11.0->sentence_transformers) (12.6.77)\n",
      "Requirement already satisfied: nvidia-nvjitlink-cu12==12.6.85 in /opt/conda/lib/python3.10/site-packages (from torch>=1.11.0->sentence_transformers) (12.6.85)\n",
      "Requirement already satisfied: nvidia-cufile-cu12==1.11.1.6 in /opt/conda/lib/python3.10/site-packages (from torch>=1.11.0->sentence_transformers) (1.11.1.6)\n",
      "Requirement already satisfied: triton==3.3.1 in /opt/conda/lib/python3.10/site-packages (from torch>=1.11.0->sentence_transformers) (3.3.1)\n",
      "Requirement already satisfied: setuptools>=40.8.0 in /opt/conda/lib/python3.10/site-packages (from triton==3.3.1->torch>=1.11.0->sentence_transformers) (80.1.0)\n",
      "Requirement already satisfied: mpmath<1.4,>=1.1.0 in /opt/conda/lib/python3.10/site-packages (from sympy>=1.13.3->torch>=1.11.0->sentence_transformers) (1.3.0)\n",
      "Requirement already satisfied: MarkupSafe>=2.0 in /opt/conda/lib/python3.10/site-packages (from jinja2->torch>=1.11.0->sentence_transformers) (3.0.2)\n",
      "Requirement already satisfied: charset_normalizer<4,>=2 in /opt/conda/lib/python3.10/site-packages (from requests->transformers<5.0.0,>=4.41.0->sentence_transformers) (3.4.2)\n",
      "Requirement already satisfied: idna<4,>=2.5 in /opt/conda/lib/python3.10/site-packages (from requests->transformers<5.0.0,>=4.41.0->sentence_transformers) (3.10)\n",
      "Requirement already satisfied: urllib3<3,>=1.21.1 in /opt/conda/lib/python3.10/site-packages (from requests->transformers<5.0.0,>=4.41.0->sentence_transformers) (1.26.20)\n",
      "Requirement already satisfied: certifi>=2017.4.17 in /opt/conda/lib/python3.10/site-packages (from requests->transformers<5.0.0,>=4.41.0->sentence_transformers) (2025.7.14)\n",
      "Requirement already satisfied: joblib>=1.2.0 in /opt/conda/lib/python3.10/site-packages (from scikit-learn->sentence_transformers) (1.5.1)\n",
      "Requirement already satisfied: threadpoolctl>=3.1.0 in /opt/conda/lib/python3.10/site-packages (from scikit-learn->sentence_transformers) (3.6.0)\n"
     ]
    }
   ],
   "source": [
    "%pip install sentence_transformers"
   ]
  },
  {
   "cell_type": "code",
   "execution_count": null,
   "id": "503ea79b-1c3b-4574-b963-028a0835f3d0",
   "metadata": {
    "tags": []
   },
   "outputs": [],
   "source": [
    "import pandas as pd\n",
    "import requests\n",
    "from io import BytesIO\n",
    "import gzip,shutil\n",
    "import os\n",
    "import numpy as np\n"
   ]
  },
  {
   "cell_type": "code",
   "execution_count": 3,
   "id": "31aca518-b70a-4814-bacf-883e3ce8b7cc",
   "metadata": {
    "tags": []
   },
   "outputs": [],
   "source": [
    "# URLs of IMDb datasets\n",
    "dataset_urls = {\n",
    "    'title.basics': 'https://datasets.imdbws.com/title.basics.tsv.gz',\n",
    "    'title.crew': 'https://datasets.imdbws.com/title.crew.tsv.gz',\n",
    "    'title.episode': 'https://datasets.imdbws.com/title.episode.tsv.gz',\n",
    "    'title.ratings': 'https://datasets.imdbws.com/title.ratings.tsv.gz',\n",
    "    'name.basics': 'https://datasets.imdbws.com/name.basics.tsv.gz'\n",
    "}\n",
    "\n",
    "def download_and_extract(url, output_path):\n",
    "    response = requests.get(url, stream=True)\n",
    "    with open(output_path, 'wb') as out_file:\n",
    "        shutil.copyfileobj(response.raw, out_file)\n",
    "    with gzip.open(output_path, 'rb') as f_in:\n",
    "        with open(output_path.replace('.gz', ''), 'wb') as f_out:\n",
    "            shutil.copyfileobj(f_in, f_out)\n",
    "    os.remove(output_path)  # Remove the compressed file\n",
    "\n",
    "for name, url in dataset_urls.items():\n",
    "    download_and_extract(url, f'{name}.tsv.gz')"
   ]
  },
  {
   "cell_type": "code",
   "execution_count": 4,
   "id": "c6faedab-ad12-4fb6-819e-82d76ad936ee",
   "metadata": {
    "tags": []
   },
   "outputs": [],
   "source": [
    "name_basics = pd.read_csv(\"name.basics.tsv\", sep =\"\\t\")\n"
   ]
  },
  {
   "cell_type": "code",
   "execution_count": 5,
   "id": "cfdf67cf-8141-49b7-9705-c6e9e5e5350a",
   "metadata": {
    "tags": []
   },
   "outputs": [
    {
     "data": {
      "text/html": [
       "<div>\n",
       "<style scoped>\n",
       "    .dataframe tbody tr th:only-of-type {\n",
       "        vertical-align: middle;\n",
       "    }\n",
       "\n",
       "    .dataframe tbody tr th {\n",
       "        vertical-align: top;\n",
       "    }\n",
       "\n",
       "    .dataframe thead th {\n",
       "        text-align: right;\n",
       "    }\n",
       "</style>\n",
       "<table border=\"1\" class=\"dataframe\">\n",
       "  <thead>\n",
       "    <tr style=\"text-align: right;\">\n",
       "      <th></th>\n",
       "      <th>nconst</th>\n",
       "      <th>primaryName</th>\n",
       "      <th>birthYear</th>\n",
       "      <th>deathYear</th>\n",
       "      <th>primaryProfession</th>\n",
       "      <th>knownForTitles</th>\n",
       "    </tr>\n",
       "  </thead>\n",
       "  <tbody>\n",
       "    <tr>\n",
       "      <th>0</th>\n",
       "      <td>nm0000001</td>\n",
       "      <td>Fred Astaire</td>\n",
       "      <td>1899</td>\n",
       "      <td>1987</td>\n",
       "      <td>actor,miscellaneous,producer</td>\n",
       "      <td>tt0072308,tt0050419,tt0027125,tt0025164</td>\n",
       "    </tr>\n",
       "    <tr>\n",
       "      <th>1</th>\n",
       "      <td>nm0000002</td>\n",
       "      <td>Lauren Bacall</td>\n",
       "      <td>1924</td>\n",
       "      <td>2014</td>\n",
       "      <td>actress,soundtrack,archive_footage</td>\n",
       "      <td>tt0037382,tt0075213,tt0038355,tt0117057</td>\n",
       "    </tr>\n",
       "    <tr>\n",
       "      <th>2</th>\n",
       "      <td>nm0000003</td>\n",
       "      <td>Brigitte Bardot</td>\n",
       "      <td>1934</td>\n",
       "      <td>\\N</td>\n",
       "      <td>actress,music_department,producer</td>\n",
       "      <td>tt0057345,tt0049189,tt0056404,tt0054452</td>\n",
       "    </tr>\n",
       "    <tr>\n",
       "      <th>3</th>\n",
       "      <td>nm0000004</td>\n",
       "      <td>John Belushi</td>\n",
       "      <td>1949</td>\n",
       "      <td>1982</td>\n",
       "      <td>actor,writer,music_department</td>\n",
       "      <td>tt0072562,tt0077975,tt0080455,tt0078723</td>\n",
       "    </tr>\n",
       "    <tr>\n",
       "      <th>4</th>\n",
       "      <td>nm0000005</td>\n",
       "      <td>Ingmar Bergman</td>\n",
       "      <td>1918</td>\n",
       "      <td>2007</td>\n",
       "      <td>writer,director,actor</td>\n",
       "      <td>tt0050986,tt0069467,tt0050976,tt0083922</td>\n",
       "    </tr>\n",
       "  </tbody>\n",
       "</table>\n",
       "</div>"
      ],
      "text/plain": [
       "      nconst      primaryName birthYear deathYear  \\\n",
       "0  nm0000001     Fred Astaire      1899      1987   \n",
       "1  nm0000002    Lauren Bacall      1924      2014   \n",
       "2  nm0000003  Brigitte Bardot      1934        \\N   \n",
       "3  nm0000004     John Belushi      1949      1982   \n",
       "4  nm0000005   Ingmar Bergman      1918      2007   \n",
       "\n",
       "                    primaryProfession                           knownForTitles  \n",
       "0        actor,miscellaneous,producer  tt0072308,tt0050419,tt0027125,tt0025164  \n",
       "1  actress,soundtrack,archive_footage  tt0037382,tt0075213,tt0038355,tt0117057  \n",
       "2   actress,music_department,producer  tt0057345,tt0049189,tt0056404,tt0054452  \n",
       "3       actor,writer,music_department  tt0072562,tt0077975,tt0080455,tt0078723  \n",
       "4               writer,director,actor  tt0050986,tt0069467,tt0050976,tt0083922  "
      ]
     },
     "execution_count": 5,
     "metadata": {},
     "output_type": "execute_result"
    }
   ],
   "source": [
    "name_basics.head()"
   ]
  },
  {
   "cell_type": "code",
   "execution_count": 6,
   "id": "ba44565a-caf2-4f2a-9041-7079df877a44",
   "metadata": {
    "tags": []
   },
   "outputs": [],
   "source": [
    "name_basics.drop(columns=[\"knownForTitles\",\"primaryProfession\",\"birthYear\",\"deathYear\"],inplace= True)"
   ]
  },
  {
   "cell_type": "code",
   "execution_count": 7,
   "id": "e3e7ba42-a5e6-4f65-8d9b-1dd0285713a1",
   "metadata": {
    "tags": []
   },
   "outputs": [
    {
     "name": "stderr",
     "output_type": "stream",
     "text": [
      "/var/tmp/ipykernel_7967/295181411.py:1: DtypeWarning: Columns (4) have mixed types. Specify dtype option on import or set low_memory=False.\n",
      "  title_basics = pd.read_csv(\"title.basics.tsv\", sep =\"\\t\")\n"
     ]
    }
   ],
   "source": [
    "title_basics = pd.read_csv(\"title.basics.tsv\", sep =\"\\t\")"
   ]
  },
  {
   "cell_type": "code",
   "execution_count": 8,
   "id": "84351ef1-64c0-48a7-985f-f00caefd5c01",
   "metadata": {
    "tags": []
   },
   "outputs": [
    {
     "data": {
      "text/html": [
       "<div>\n",
       "<style scoped>\n",
       "    .dataframe tbody tr th:only-of-type {\n",
       "        vertical-align: middle;\n",
       "    }\n",
       "\n",
       "    .dataframe tbody tr th {\n",
       "        vertical-align: top;\n",
       "    }\n",
       "\n",
       "    .dataframe thead th {\n",
       "        text-align: right;\n",
       "    }\n",
       "</style>\n",
       "<table border=\"1\" class=\"dataframe\">\n",
       "  <thead>\n",
       "    <tr style=\"text-align: right;\">\n",
       "      <th></th>\n",
       "      <th>tconst</th>\n",
       "      <th>titleType</th>\n",
       "      <th>primaryTitle</th>\n",
       "      <th>originalTitle</th>\n",
       "      <th>isAdult</th>\n",
       "      <th>startYear</th>\n",
       "      <th>endYear</th>\n",
       "      <th>runtimeMinutes</th>\n",
       "      <th>genres</th>\n",
       "    </tr>\n",
       "  </thead>\n",
       "  <tbody>\n",
       "    <tr>\n",
       "      <th>0</th>\n",
       "      <td>tt0000001</td>\n",
       "      <td>short</td>\n",
       "      <td>Carmencita</td>\n",
       "      <td>Carmencita</td>\n",
       "      <td>0</td>\n",
       "      <td>1894</td>\n",
       "      <td>\\N</td>\n",
       "      <td>1</td>\n",
       "      <td>Documentary,Short</td>\n",
       "    </tr>\n",
       "    <tr>\n",
       "      <th>1</th>\n",
       "      <td>tt0000002</td>\n",
       "      <td>short</td>\n",
       "      <td>Le clown et ses chiens</td>\n",
       "      <td>Le clown et ses chiens</td>\n",
       "      <td>0</td>\n",
       "      <td>1892</td>\n",
       "      <td>\\N</td>\n",
       "      <td>5</td>\n",
       "      <td>Animation,Short</td>\n",
       "    </tr>\n",
       "    <tr>\n",
       "      <th>2</th>\n",
       "      <td>tt0000003</td>\n",
       "      <td>short</td>\n",
       "      <td>Poor Pierrot</td>\n",
       "      <td>Pauvre Pierrot</td>\n",
       "      <td>0</td>\n",
       "      <td>1892</td>\n",
       "      <td>\\N</td>\n",
       "      <td>5</td>\n",
       "      <td>Animation,Comedy,Romance</td>\n",
       "    </tr>\n",
       "    <tr>\n",
       "      <th>3</th>\n",
       "      <td>tt0000004</td>\n",
       "      <td>short</td>\n",
       "      <td>Un bon bock</td>\n",
       "      <td>Un bon bock</td>\n",
       "      <td>0</td>\n",
       "      <td>1892</td>\n",
       "      <td>\\N</td>\n",
       "      <td>12</td>\n",
       "      <td>Animation,Short</td>\n",
       "    </tr>\n",
       "    <tr>\n",
       "      <th>4</th>\n",
       "      <td>tt0000005</td>\n",
       "      <td>short</td>\n",
       "      <td>Blacksmith Scene</td>\n",
       "      <td>Blacksmith Scene</td>\n",
       "      <td>0</td>\n",
       "      <td>1893</td>\n",
       "      <td>\\N</td>\n",
       "      <td>1</td>\n",
       "      <td>Short</td>\n",
       "    </tr>\n",
       "  </tbody>\n",
       "</table>\n",
       "</div>"
      ],
      "text/plain": [
       "      tconst titleType            primaryTitle           originalTitle  \\\n",
       "0  tt0000001     short              Carmencita              Carmencita   \n",
       "1  tt0000002     short  Le clown et ses chiens  Le clown et ses chiens   \n",
       "2  tt0000003     short            Poor Pierrot          Pauvre Pierrot   \n",
       "3  tt0000004     short             Un bon bock             Un bon bock   \n",
       "4  tt0000005     short        Blacksmith Scene        Blacksmith Scene   \n",
       "\n",
       "  isAdult startYear endYear runtimeMinutes                    genres  \n",
       "0       0      1894      \\N              1         Documentary,Short  \n",
       "1       0      1892      \\N              5           Animation,Short  \n",
       "2       0      1892      \\N              5  Animation,Comedy,Romance  \n",
       "3       0      1892      \\N             12           Animation,Short  \n",
       "4       0      1893      \\N              1                     Short  "
      ]
     },
     "execution_count": 8,
     "metadata": {},
     "output_type": "execute_result"
    }
   ],
   "source": [
    "title_basics.head()"
   ]
  },
  {
   "cell_type": "code",
   "execution_count": 9,
   "id": "aed7bf5d-61cc-4765-9e38-2c67473500a7",
   "metadata": {
    "tags": []
   },
   "outputs": [],
   "source": [
    "title_basics.drop(columns=[\"primaryTitle\",\"endYear\",\"isAdult\"],inplace=True)\n"
   ]
  },
  {
   "cell_type": "code",
   "execution_count": 10,
   "id": "49e441f9-89f1-48a6-992b-92b19721cb0b",
   "metadata": {
    "tags": []
   },
   "outputs": [],
   "source": [
    "title_crew = pd.read_csv(\"title.crew.tsv\", sep = \"\\t\")\n"
   ]
  },
  {
   "cell_type": "code",
   "execution_count": 11,
   "id": "0bea1951-2134-4603-b37a-faf5d6561732",
   "metadata": {},
   "outputs": [
    {
     "data": {
      "text/html": [
       "<div>\n",
       "<style scoped>\n",
       "    .dataframe tbody tr th:only-of-type {\n",
       "        vertical-align: middle;\n",
       "    }\n",
       "\n",
       "    .dataframe tbody tr th {\n",
       "        vertical-align: top;\n",
       "    }\n",
       "\n",
       "    .dataframe thead th {\n",
       "        text-align: right;\n",
       "    }\n",
       "</style>\n",
       "<table border=\"1\" class=\"dataframe\">\n",
       "  <thead>\n",
       "    <tr style=\"text-align: right;\">\n",
       "      <th></th>\n",
       "      <th>tconst</th>\n",
       "      <th>directors</th>\n",
       "      <th>writers</th>\n",
       "    </tr>\n",
       "  </thead>\n",
       "  <tbody>\n",
       "    <tr>\n",
       "      <th>0</th>\n",
       "      <td>tt0000001</td>\n",
       "      <td>nm0005690</td>\n",
       "      <td>\\N</td>\n",
       "    </tr>\n",
       "    <tr>\n",
       "      <th>1</th>\n",
       "      <td>tt0000002</td>\n",
       "      <td>nm0721526</td>\n",
       "      <td>\\N</td>\n",
       "    </tr>\n",
       "    <tr>\n",
       "      <th>2</th>\n",
       "      <td>tt0000003</td>\n",
       "      <td>nm0721526</td>\n",
       "      <td>nm0721526</td>\n",
       "    </tr>\n",
       "    <tr>\n",
       "      <th>3</th>\n",
       "      <td>tt0000004</td>\n",
       "      <td>nm0721526</td>\n",
       "      <td>\\N</td>\n",
       "    </tr>\n",
       "    <tr>\n",
       "      <th>4</th>\n",
       "      <td>tt0000005</td>\n",
       "      <td>nm0005690</td>\n",
       "      <td>\\N</td>\n",
       "    </tr>\n",
       "  </tbody>\n",
       "</table>\n",
       "</div>"
      ],
      "text/plain": [
       "      tconst  directors    writers\n",
       "0  tt0000001  nm0005690         \\N\n",
       "1  tt0000002  nm0721526         \\N\n",
       "2  tt0000003  nm0721526  nm0721526\n",
       "3  tt0000004  nm0721526         \\N\n",
       "4  tt0000005  nm0005690         \\N"
      ]
     },
     "execution_count": 11,
     "metadata": {},
     "output_type": "execute_result"
    }
   ],
   "source": [
    "title_crew.head()"
   ]
  },
  {
   "cell_type": "code",
   "execution_count": 12,
   "id": "ae6efaf4-b23f-4b36-a6e9-46785c2c96ac",
   "metadata": {
    "tags": []
   },
   "outputs": [],
   "source": [
    "title_crew.drop(columns=[\"writers\"],inplace=True)"
   ]
  },
  {
   "cell_type": "code",
   "execution_count": 13,
   "id": "8499b300-94cd-4534-a431-d88ee984bc65",
   "metadata": {
    "tags": []
   },
   "outputs": [],
   "source": [
    "title_ratings = pd.read_csv(\"title.ratings.tsv\", sep =\"\\t\")\n"
   ]
  },
  {
   "cell_type": "code",
   "execution_count": 14,
   "id": "c877bd79-cc6e-40f5-9c32-3bf4ada32c41",
   "metadata": {},
   "outputs": [
    {
     "data": {
      "text/html": [
       "<div>\n",
       "<style scoped>\n",
       "    .dataframe tbody tr th:only-of-type {\n",
       "        vertical-align: middle;\n",
       "    }\n",
       "\n",
       "    .dataframe tbody tr th {\n",
       "        vertical-align: top;\n",
       "    }\n",
       "\n",
       "    .dataframe thead th {\n",
       "        text-align: right;\n",
       "    }\n",
       "</style>\n",
       "<table border=\"1\" class=\"dataframe\">\n",
       "  <thead>\n",
       "    <tr style=\"text-align: right;\">\n",
       "      <th></th>\n",
       "      <th>tconst</th>\n",
       "      <th>averageRating</th>\n",
       "      <th>numVotes</th>\n",
       "    </tr>\n",
       "  </thead>\n",
       "  <tbody>\n",
       "    <tr>\n",
       "      <th>0</th>\n",
       "      <td>tt0000001</td>\n",
       "      <td>5.7</td>\n",
       "      <td>2165</td>\n",
       "    </tr>\n",
       "    <tr>\n",
       "      <th>1</th>\n",
       "      <td>tt0000002</td>\n",
       "      <td>5.5</td>\n",
       "      <td>296</td>\n",
       "    </tr>\n",
       "    <tr>\n",
       "      <th>2</th>\n",
       "      <td>tt0000003</td>\n",
       "      <td>6.5</td>\n",
       "      <td>2224</td>\n",
       "    </tr>\n",
       "    <tr>\n",
       "      <th>3</th>\n",
       "      <td>tt0000004</td>\n",
       "      <td>5.3</td>\n",
       "      <td>190</td>\n",
       "    </tr>\n",
       "    <tr>\n",
       "      <th>4</th>\n",
       "      <td>tt0000005</td>\n",
       "      <td>6.2</td>\n",
       "      <td>2963</td>\n",
       "    </tr>\n",
       "  </tbody>\n",
       "</table>\n",
       "</div>"
      ],
      "text/plain": [
       "      tconst  averageRating  numVotes\n",
       "0  tt0000001            5.7      2165\n",
       "1  tt0000002            5.5       296\n",
       "2  tt0000003            6.5      2224\n",
       "3  tt0000004            5.3       190\n",
       "4  tt0000005            6.2      2963"
      ]
     },
     "execution_count": 14,
     "metadata": {},
     "output_type": "execute_result"
    }
   ],
   "source": [
    "title_ratings.head()"
   ]
  },
  {
   "cell_type": "code",
   "execution_count": 15,
   "id": "d34aa63c-ccc2-4d2f-876f-68e16491d1f1",
   "metadata": {
    "tags": []
   },
   "outputs": [],
   "source": [
    "title_episode = pd.read_csv(\"title.episode.tsv\",usecols=[\"tconst\"],sep=\"\\t\")"
   ]
  },
  {
   "cell_type": "code",
   "execution_count": 16,
   "id": "6de6a7ff-98a5-4c7d-8d86-932472f16109",
   "metadata": {},
   "outputs": [],
   "source": [
    "exclude_idx=title_episode[\"tconst\"].values"
   ]
  },
  {
   "cell_type": "code",
   "execution_count": 17,
   "id": "50959f27-e662-489a-a3e8-f819d895f002",
   "metadata": {
    "tags": []
   },
   "outputs": [],
   "source": [
    "# Merge the datasets\n",
    "merged_df = title_basics.merge(title_crew, on='tconst', how='left') \\\n",
    "                      .merge(title_ratings, on='tconst', how='left')\n"
   ]
  },
  {
   "cell_type": "code",
   "execution_count": 18,
   "id": "07462ff3-ea80-4e5e-b97e-15bd6514da17",
   "metadata": {
    "tags": []
   },
   "outputs": [],
   "source": [
    "merged_df.rename(columns={'directors':'nconst'},inplace=True)"
   ]
  },
  {
   "cell_type": "code",
   "execution_count": 19,
   "id": "a3cc9ca7-6620-4ab5-869b-d9e422ef2e79",
   "metadata": {
    "tags": []
   },
   "outputs": [],
   "source": [
    "merged_df = merged_df[~merged_df['tconst'].isin(exclude_idx)]\n"
   ]
  },
  {
   "cell_type": "code",
   "execution_count": 20,
   "id": "dbb6d762-f5a1-4092-92ab-d8c46a73c799",
   "metadata": {},
   "outputs": [
    {
     "name": "stdout",
     "output_type": "stream",
     "text": [
      "<class 'pandas.core.frame.DataFrame'>\n",
      "Index: 2717727 entries, 0 to 11798576\n",
      "Data columns (total 9 columns):\n",
      " #   Column          Dtype  \n",
      "---  ------          -----  \n",
      " 0   tconst          object \n",
      " 1   titleType       object \n",
      " 2   originalTitle   object \n",
      " 3   startYear       object \n",
      " 4   runtimeMinutes  object \n",
      " 5   genres          object \n",
      " 6   nconst          object \n",
      " 7   averageRating   float64\n",
      " 8   numVotes        float64\n",
      "dtypes: float64(2), object(7)\n",
      "memory usage: 207.3+ MB\n"
     ]
    }
   ],
   "source": [
    "merged_df.info()"
   ]
  },
  {
   "cell_type": "code",
   "execution_count": 21,
   "id": "52e7f3ee-ddbf-494b-ab84-ee4535322974",
   "metadata": {
    "tags": []
   },
   "outputs": [],
   "source": [
    "merged_df = merged_df.merge(name_basics,on=\"nconst\",how=\"left\")"
   ]
  },
  {
   "cell_type": "code",
   "execution_count": 22,
   "id": "484ba682-6ae0-4050-84c7-55c72ab873e6",
   "metadata": {
    "tags": []
   },
   "outputs": [],
   "source": [
    "merged_df.drop(columns=[\"nconst\"],inplace=True)\n"
   ]
  },
  {
   "cell_type": "code",
   "execution_count": 23,
   "id": "b317f286-7406-4f90-9203-4d5e1cfb6d34",
   "metadata": {},
   "outputs": [
    {
     "data": {
      "text/plain": [
       "array(['short', 'movie', 'tvShort', 'tvMovie', 'tvSeries', 'tvMiniSeries',\n",
       "       'tvSpecial', 'video', 'videoGame', 'tvPilot', 'tvEpisode'],\n",
       "      dtype=object)"
      ]
     },
     "execution_count": 23,
     "metadata": {},
     "output_type": "execute_result"
    }
   ],
   "source": [
    "merged_df.titleType.unique()"
   ]
  },
  {
   "cell_type": "code",
   "execution_count": 24,
   "id": "ac498aeb-d385-46b2-9c28-9b7726fcdacd",
   "metadata": {},
   "outputs": [],
   "source": [
    "merged_df = merged_df.query('titleType==\"movie\" or titleType ==\"tvSeries\" or titleType == \"tvMovie\"')"
   ]
  },
  {
   "cell_type": "markdown",
   "id": "9a2a8c95-f5a5-4d58-9cdf-0f2c54039bd4",
   "metadata": {},
   "source": [
    "### Del df to save memory"
   ]
  },
  {
   "cell_type": "code",
   "execution_count": 25,
   "id": "fd7f6039-28b6-4136-8703-bf828a9486d0",
   "metadata": {},
   "outputs": [],
   "source": [
    "del name_basics\n",
    "del title_basics\n",
    "del title_crew\n",
    "del title_episode\n",
    "del title_ratings"
   ]
  },
  {
   "cell_type": "markdown",
   "id": "68fb8770-509e-4b35-83b9-0e167898306a",
   "metadata": {},
   "source": [
    "## MovieLens Data"
   ]
  },
  {
   "cell_type": "code",
   "execution_count": 26,
   "id": "a0202e70-84b8-4824-9ee3-842a369b583a",
   "metadata": {},
   "outputs": [
    {
     "name": "stdout",
     "output_type": "stream",
     "text": [
      "Downloading from https://files.grouplens.org/datasets/movielens/ml-32m.zip...\n",
      "Downloaded ZIP to temp.zip.\n",
      "Extracting temp.zip to ./...\n",
      "Temporary ZIP file removed.\n"
     ]
    }
   ],
   "source": [
    "import requests\n",
    "import zipfile\n",
    "import os\n",
    "\n",
    "def download_and_extract_zip(url, output_path):\n",
    "    # Step 1: Download the ZIP file\n",
    "    try:\n",
    "        print(f\"Downloading from {url}...\")\n",
    "        response = requests.get(url)\n",
    "        response.raise_for_status()  # Will raise an exception for bad responses\n",
    "        zip_path = 'temp.zip'  # Temporary path for the downloaded file\n",
    "        \n",
    "        with open(zip_path, 'wb') as f:\n",
    "            f.write(response.content)\n",
    "        \n",
    "        print(f\"Downloaded ZIP to {zip_path}.\")\n",
    "        \n",
    "    except requests.exceptions.RequestException as e:\n",
    "        print(f\"Error downloading the file: {e}\")\n",
    "        return\n",
    "\n",
    "    # Step 2: Extract the ZIP file\n",
    "    try:\n",
    "        print(f\"Extracting {zip_path} to {output_path}...\")\n",
    "        \n",
    "        # Create the output_path  if it doesn't exist\n",
    "        if not os.path.exists(output_path):\n",
    "            os.makedirs(output_path)\n",
    "        \n",
    "        with zipfile.ZipFile(zip_path, 'r') as zip_ref:\n",
    "            zip_ref.extractall(output_path)\n",
    "                \n",
    "    except zipfile.BadZipFile:\n",
    "        print(f\"Error: {zip_path} is not a valid ZIP file.\")\n",
    "    except Exception as e:\n",
    "        print(f\"Error extracting the ZIP file: {e}\")\n",
    "    \n",
    "    # Clean up the temporary zip file\n",
    "    os.remove(zip_path)\n",
    "    print(\"Temporary ZIP file removed.\")\n",
    "\n",
    "# Example usage:\n",
    "url = \"https://files.grouplens.org/datasets/movielens/ml-32m.zip\"  # Replace with your actual URL\n",
    "output_path = \"./\"  # Folder where you want to extract the contents\n",
    "\n",
    "download_and_extract_zip(url, output_path)\n"
   ]
  },
  {
   "cell_type": "code",
   "execution_count": 27,
   "id": "1b0d615d-a728-48e9-a5d9-2d593882dfa5",
   "metadata": {},
   "outputs": [],
   "source": [
    "rates = pd.read_csv(\"ml-32m/ratings.csv\")"
   ]
  },
  {
   "cell_type": "code",
   "execution_count": 28,
   "id": "d2a8ace4-caf7-407f-9326-3a3b89ae4ea2",
   "metadata": {},
   "outputs": [
    {
     "data": {
      "text/plain": [
       "userId       0\n",
       "movieId      0\n",
       "rating       0\n",
       "timestamp    0\n",
       "dtype: int64"
      ]
     },
     "execution_count": 28,
     "metadata": {},
     "output_type": "execute_result"
    }
   ],
   "source": [
    "rates.isna().sum()"
   ]
  },
  {
   "cell_type": "code",
   "execution_count": 29,
   "id": "26394273-52c0-4d3e-b430-e8af555388a5",
   "metadata": {},
   "outputs": [
    {
     "data": {
      "text/html": [
       "<div>\n",
       "<style scoped>\n",
       "    .dataframe tbody tr th:only-of-type {\n",
       "        vertical-align: middle;\n",
       "    }\n",
       "\n",
       "    .dataframe tbody tr th {\n",
       "        vertical-align: top;\n",
       "    }\n",
       "\n",
       "    .dataframe thead th {\n",
       "        text-align: right;\n",
       "    }\n",
       "</style>\n",
       "<table border=\"1\" class=\"dataframe\">\n",
       "  <thead>\n",
       "    <tr style=\"text-align: right;\">\n",
       "      <th></th>\n",
       "      <th>userId</th>\n",
       "      <th>movieId</th>\n",
       "      <th>rating</th>\n",
       "      <th>timestamp</th>\n",
       "    </tr>\n",
       "  </thead>\n",
       "  <tbody>\n",
       "    <tr>\n",
       "      <th>0</th>\n",
       "      <td>1</td>\n",
       "      <td>17</td>\n",
       "      <td>4.0</td>\n",
       "      <td>944249077</td>\n",
       "    </tr>\n",
       "    <tr>\n",
       "      <th>1</th>\n",
       "      <td>1</td>\n",
       "      <td>25</td>\n",
       "      <td>1.0</td>\n",
       "      <td>944250228</td>\n",
       "    </tr>\n",
       "    <tr>\n",
       "      <th>2</th>\n",
       "      <td>1</td>\n",
       "      <td>29</td>\n",
       "      <td>2.0</td>\n",
       "      <td>943230976</td>\n",
       "    </tr>\n",
       "    <tr>\n",
       "      <th>3</th>\n",
       "      <td>1</td>\n",
       "      <td>30</td>\n",
       "      <td>5.0</td>\n",
       "      <td>944249077</td>\n",
       "    </tr>\n",
       "    <tr>\n",
       "      <th>4</th>\n",
       "      <td>1</td>\n",
       "      <td>32</td>\n",
       "      <td>5.0</td>\n",
       "      <td>943228858</td>\n",
       "    </tr>\n",
       "    <tr>\n",
       "      <th>...</th>\n",
       "      <td>...</td>\n",
       "      <td>...</td>\n",
       "      <td>...</td>\n",
       "      <td>...</td>\n",
       "    </tr>\n",
       "    <tr>\n",
       "      <th>32000199</th>\n",
       "      <td>200948</td>\n",
       "      <td>79702</td>\n",
       "      <td>4.5</td>\n",
       "      <td>1294412589</td>\n",
       "    </tr>\n",
       "    <tr>\n",
       "      <th>32000200</th>\n",
       "      <td>200948</td>\n",
       "      <td>79796</td>\n",
       "      <td>1.0</td>\n",
       "      <td>1287216292</td>\n",
       "    </tr>\n",
       "    <tr>\n",
       "      <th>32000201</th>\n",
       "      <td>200948</td>\n",
       "      <td>80350</td>\n",
       "      <td>0.5</td>\n",
       "      <td>1294412671</td>\n",
       "    </tr>\n",
       "    <tr>\n",
       "      <th>32000202</th>\n",
       "      <td>200948</td>\n",
       "      <td>80463</td>\n",
       "      <td>3.5</td>\n",
       "      <td>1350423800</td>\n",
       "    </tr>\n",
       "    <tr>\n",
       "      <th>32000203</th>\n",
       "      <td>200948</td>\n",
       "      <td>87304</td>\n",
       "      <td>4.5</td>\n",
       "      <td>1350423523</td>\n",
       "    </tr>\n",
       "  </tbody>\n",
       "</table>\n",
       "<p>32000204 rows × 4 columns</p>\n",
       "</div>"
      ],
      "text/plain": [
       "          userId  movieId  rating   timestamp\n",
       "0              1       17     4.0   944249077\n",
       "1              1       25     1.0   944250228\n",
       "2              1       29     2.0   943230976\n",
       "3              1       30     5.0   944249077\n",
       "4              1       32     5.0   943228858\n",
       "...          ...      ...     ...         ...\n",
       "32000199  200948    79702     4.5  1294412589\n",
       "32000200  200948    79796     1.0  1287216292\n",
       "32000201  200948    80350     0.5  1294412671\n",
       "32000202  200948    80463     3.5  1350423800\n",
       "32000203  200948    87304     4.5  1350423523\n",
       "\n",
       "[32000204 rows x 4 columns]"
      ]
     },
     "execution_count": 29,
     "metadata": {},
     "output_type": "execute_result"
    }
   ],
   "source": [
    "rates"
   ]
  },
  {
   "cell_type": "code",
   "execution_count": 30,
   "id": "4f89307a-6bdb-44c3-b936-9e30dad89397",
   "metadata": {},
   "outputs": [],
   "source": [
    "rates=rates.groupby(\"movieId\")[\"rating\"].mean().to_frame()"
   ]
  },
  {
   "cell_type": "code",
   "execution_count": 31,
   "id": "93ac2b85-1ce2-4a4c-af41-a61d73a36bde",
   "metadata": {},
   "outputs": [],
   "source": [
    "tags = pd.read_csv(\"ml-32m/tags.csv\")"
   ]
  },
  {
   "cell_type": "code",
   "execution_count": 32,
   "id": "4e602a33-0f0e-4c2d-9e4d-aa0d3b3d9f70",
   "metadata": {},
   "outputs": [],
   "source": [
    "tags[\"tag\"] = tags[\"tag\"].astype(\"str\")"
   ]
  },
  {
   "cell_type": "code",
   "execution_count": 33,
   "id": "eb193860-4c98-4391-8058-790f2f348600",
   "metadata": {},
   "outputs": [],
   "source": [
    "tags = tags.groupby('movieId')['tag'].apply(lambda x: ', '.join(x.value_counts().head(10).index)).to_frame()"
   ]
  },
  {
   "cell_type": "code",
   "execution_count": 34,
   "id": "a18a66a1-61fd-4ad2-9db7-c1d03e513c6c",
   "metadata": {},
   "outputs": [],
   "source": [
    "mv_data = rates.merge(tags , left_index = True, right_index = True, how =\"left\")"
   ]
  },
  {
   "cell_type": "code",
   "execution_count": 35,
   "id": "410a753b-df84-41d4-86a9-cf0ece561bf7",
   "metadata": {},
   "outputs": [
    {
     "data": {
      "text/html": [
       "<div>\n",
       "<style scoped>\n",
       "    .dataframe tbody tr th:only-of-type {\n",
       "        vertical-align: middle;\n",
       "    }\n",
       "\n",
       "    .dataframe tbody tr th {\n",
       "        vertical-align: top;\n",
       "    }\n",
       "\n",
       "    .dataframe thead th {\n",
       "        text-align: right;\n",
       "    }\n",
       "</style>\n",
       "<table border=\"1\" class=\"dataframe\">\n",
       "  <thead>\n",
       "    <tr style=\"text-align: right;\">\n",
       "      <th></th>\n",
       "      <th>rating</th>\n",
       "      <th>tag</th>\n",
       "    </tr>\n",
       "    <tr>\n",
       "      <th>movieId</th>\n",
       "      <th></th>\n",
       "      <th></th>\n",
       "    </tr>\n",
       "  </thead>\n",
       "  <tbody>\n",
       "    <tr>\n",
       "      <th>1</th>\n",
       "      <td>3.897438</td>\n",
       "      <td>Pixar, animation, Disney, funny, Tom Hanks, pi...</td>\n",
       "    </tr>\n",
       "    <tr>\n",
       "      <th>2</th>\n",
       "      <td>3.275758</td>\n",
       "      <td>Robin Williams, fantasy, time travel, board ga...</td>\n",
       "    </tr>\n",
       "    <tr>\n",
       "      <th>3</th>\n",
       "      <td>3.139447</td>\n",
       "      <td>comedinha de velhinhos engraÃƒÂ§ada, comedinha...</td>\n",
       "    </tr>\n",
       "    <tr>\n",
       "      <th>4</th>\n",
       "      <td>2.845331</td>\n",
       "      <td>chick flick, characters, slurs, based on novel...</td>\n",
       "    </tr>\n",
       "    <tr>\n",
       "      <th>5</th>\n",
       "      <td>3.059602</td>\n",
       "      <td>pregnancy, Steve Martin, family, daughter, Dia...</td>\n",
       "    </tr>\n",
       "  </tbody>\n",
       "</table>\n",
       "</div>"
      ],
      "text/plain": [
       "           rating                                                tag\n",
       "movieId                                                             \n",
       "1        3.897438  Pixar, animation, Disney, funny, Tom Hanks, pi...\n",
       "2        3.275758  Robin Williams, fantasy, time travel, board ga...\n",
       "3        3.139447  comedinha de velhinhos engraÃƒÂ§ada, comedinha...\n",
       "4        2.845331  chick flick, characters, slurs, based on novel...\n",
       "5        3.059602  pregnancy, Steve Martin, family, daughter, Dia..."
      ]
     },
     "execution_count": 35,
     "metadata": {},
     "output_type": "execute_result"
    }
   ],
   "source": [
    "mv_data.head()"
   ]
  },
  {
   "cell_type": "code",
   "execution_count": 36,
   "id": "12a37a27-e5c5-463d-b976-bc593132c156",
   "metadata": {},
   "outputs": [],
   "source": [
    "links = pd.read_csv(\"ml-32m/links.csv\", usecols=[\"movieId\", \"imdbId\"], dtype={\"imdbId\": str})\n"
   ]
  },
  {
   "cell_type": "code",
   "execution_count": 37,
   "id": "6fe5eb3b-0d6c-44a8-8463-cdf03235a6d4",
   "metadata": {},
   "outputs": [],
   "source": [
    "mv_data = mv_data.merge(links, left_index=True, right_on=\"movieId\", how = \"left\")"
   ]
  },
  {
   "cell_type": "code",
   "execution_count": 38,
   "id": "86b9b503-5763-4e62-9946-d78a45c34b2d",
   "metadata": {},
   "outputs": [],
   "source": [
    "mv_data.drop(columns=[\"movieId\"],inplace=True)"
   ]
  },
  {
   "cell_type": "code",
   "execution_count": 39,
   "id": "0e3b595f-68e1-4e76-925a-b51c5333aeb2",
   "metadata": {},
   "outputs": [],
   "source": [
    "mv_data[\"imdbId\"] = \"tt\" + mv_data[\"imdbId\"].astype(str)"
   ]
  },
  {
   "cell_type": "code",
   "execution_count": 40,
   "id": "6be266d9-0c4a-428a-8c47-c922ef9468f0",
   "metadata": {},
   "outputs": [],
   "source": [
    "mv_data.rename(columns={\"rating\":\"movielens_rating\",\"imdbId\":\"tconst\"},inplace = True)"
   ]
  },
  {
   "cell_type": "code",
   "execution_count": 41,
   "id": "8a75b6ad-9037-43b5-82e0-7c10226c120c",
   "metadata": {},
   "outputs": [],
   "source": [
    "merged_df = merged_df.merge(mv_data,on=\"tconst\",how=\"left\")"
   ]
  },
  {
   "cell_type": "code",
   "execution_count": 42,
   "id": "66ba70eb-0a02-4577-bb3e-2b0779657988",
   "metadata": {},
   "outputs": [
    {
     "data": {
      "text/plain": [
       "array(['movie', 'tvMovie', 'tvSeries'], dtype=object)"
      ]
     },
     "execution_count": 42,
     "metadata": {},
     "output_type": "execute_result"
    }
   ],
   "source": [
    "merged_df.titleType.unique()"
   ]
  },
  {
   "cell_type": "markdown",
   "id": "561f7cf3-3020-46d0-b383-a8d09ae54d2a",
   "metadata": {},
   "source": [
    "## EXTERNAL KAGGLE DATA"
   ]
  },
  {
   "cell_type": "code",
   "execution_count": 43,
   "id": "0934c47d-4936-41c8-bca5-8a8aa68b2672",
   "metadata": {},
   "outputs": [
    {
     "name": "stdout",
     "output_type": "stream",
     "text": [
      "Requirement already satisfied: kagglehub in /opt/conda/lib/python3.10/site-packages (0.3.12)\n",
      "Requirement already satisfied: packaging in /opt/conda/lib/python3.10/site-packages (from kagglehub) (25.0)\n",
      "Requirement already satisfied: pyyaml in /opt/conda/lib/python3.10/site-packages (from kagglehub) (6.0.2)\n",
      "Requirement already satisfied: requests in /opt/conda/lib/python3.10/site-packages (from kagglehub) (2.32.4)\n",
      "Requirement already satisfied: tqdm in /opt/conda/lib/python3.10/site-packages (from kagglehub) (4.67.1)\n",
      "Requirement already satisfied: charset_normalizer<4,>=2 in /opt/conda/lib/python3.10/site-packages (from requests->kagglehub) (3.4.2)\n",
      "Requirement already satisfied: idna<4,>=2.5 in /opt/conda/lib/python3.10/site-packages (from requests->kagglehub) (3.10)\n",
      "Requirement already satisfied: urllib3<3,>=1.21.1 in /opt/conda/lib/python3.10/site-packages (from requests->kagglehub) (1.26.20)\n",
      "Requirement already satisfied: certifi>=2017.4.17 in /opt/conda/lib/python3.10/site-packages (from requests->kagglehub) (2025.7.14)\n"
     ]
    }
   ],
   "source": [
    "!pip install kagglehub"
   ]
  },
  {
   "cell_type": "code",
   "execution_count": 44,
   "id": "01d68cdd-fc3f-4c47-bf9d-81bba520c7c2",
   "metadata": {},
   "outputs": [],
   "source": [
    "!export KAGGLEHUB_CACHE= \n"
   ]
  },
  {
   "cell_type": "code",
   "execution_count": 45,
   "id": "fa53240c-13af-4cc6-9e9b-3980318a4007",
   "metadata": {},
   "outputs": [
    {
     "name": "stdout",
     "output_type": "stream",
     "text": [
      "Downloading from https://www.kaggle.com/api/v1/datasets/download/alanvourch/tmdb-movies-daily-updates?dataset_version_number=566...\n"
     ]
    },
    {
     "name": "stderr",
     "output_type": "stream",
     "text": [
      "100%|██████████| 272M/272M [00:02<00:00, 124MB/s]  "
     ]
    },
    {
     "name": "stdout",
     "output_type": "stream",
     "text": [
      "Extracting files...\n"
     ]
    },
    {
     "name": "stderr",
     "output_type": "stream",
     "text": [
      "\n"
     ]
    },
    {
     "name": "stdout",
     "output_type": "stream",
     "text": [
      "Path to dataset files: /home/jupyter/.cache/kagglehub/datasets/alanvourch/tmdb-movies-daily-updates/versions/566\n"
     ]
    }
   ],
   "source": [
    "import kagglehub\n",
    "\n",
    "# Download latest version\n",
    "path = kagglehub.dataset_download(\"alanvourch/tmdb-movies-daily-updates\")\n",
    "\n",
    "print(\"Path to dataset files:\", path)"
   ]
  },
  {
   "cell_type": "code",
   "execution_count": 46,
   "id": "4e3754c7-7ed1-46f2-a044-ed1f0e76482d",
   "metadata": {},
   "outputs": [],
   "source": [
    "filename = \"TMDB_all_movies.csv\"\n",
    "file_path = os.path.join(path,filename)"
   ]
  },
  {
   "cell_type": "code",
   "execution_count": 47,
   "id": "b7893bf4-681e-4f0b-bcb7-91364d1990dd",
   "metadata": {},
   "outputs": [],
   "source": [
    "kaggle_df = pd.read_csv(file_path, usecols=[\"imdb_id\", \"overview\", \"imdb_rating\", \"imdb_votes\"])\n",
    "kaggle_df = kaggle_df[kaggle_df['imdb_id'].notna()]"
   ]
  },
  {
   "cell_type": "code",
   "execution_count": 48,
   "id": "2c48c3f0-04aa-44e5-b334-148edd0edd6a",
   "metadata": {},
   "outputs": [],
   "source": [
    "cn = [\"tconst\", \"overview\", \"averageRating\", \"numVotes\" ]\n",
    "kaggle_df.columns = cn "
   ]
  },
  {
   "cell_type": "code",
   "execution_count": 49,
   "id": "2732a5f4-aa60-4234-8177-5fcd639f2c1e",
   "metadata": {},
   "outputs": [
    {
     "data": {
      "text/html": [
       "<div>\n",
       "<style scoped>\n",
       "    .dataframe tbody tr th:only-of-type {\n",
       "        vertical-align: middle;\n",
       "    }\n",
       "\n",
       "    .dataframe tbody tr th {\n",
       "        vertical-align: top;\n",
       "    }\n",
       "\n",
       "    .dataframe thead th {\n",
       "        text-align: right;\n",
       "    }\n",
       "</style>\n",
       "<table border=\"1\" class=\"dataframe\">\n",
       "  <thead>\n",
       "    <tr style=\"text-align: right;\">\n",
       "      <th></th>\n",
       "      <th>tconst</th>\n",
       "      <th>overview</th>\n",
       "      <th>averageRating</th>\n",
       "      <th>numVotes</th>\n",
       "    </tr>\n",
       "  </thead>\n",
       "  <tbody>\n",
       "    <tr>\n",
       "      <th>0</th>\n",
       "      <td>tt0094675</td>\n",
       "      <td>A Finnish man goes to the city to find a job a...</td>\n",
       "      <td>7.4</td>\n",
       "      <td>9288.0</td>\n",
       "    </tr>\n",
       "    <tr>\n",
       "      <th>1</th>\n",
       "      <td>tt0092149</td>\n",
       "      <td>Nikander, a rubbish collector and would-be ent...</td>\n",
       "      <td>7.4</td>\n",
       "      <td>8116.0</td>\n",
       "    </tr>\n",
       "    <tr>\n",
       "      <th>2</th>\n",
       "      <td>tt0113101</td>\n",
       "      <td>It's Ted the Bellhop's first night on the job....</td>\n",
       "      <td>6.7</td>\n",
       "      <td>114700.0</td>\n",
       "    </tr>\n",
       "    <tr>\n",
       "      <th>3</th>\n",
       "      <td>tt0107286</td>\n",
       "      <td>Four young friends, while taking a shortcut en...</td>\n",
       "      <td>6.6</td>\n",
       "      <td>20163.0</td>\n",
       "    </tr>\n",
       "    <tr>\n",
       "      <th>4</th>\n",
       "      <td>tt0825671</td>\n",
       "      <td>Timo Novotny labels his new project an experim...</td>\n",
       "      <td>8.1</td>\n",
       "      <td>285.0</td>\n",
       "    </tr>\n",
       "  </tbody>\n",
       "</table>\n",
       "</div>"
      ],
      "text/plain": [
       "      tconst                                           overview  \\\n",
       "0  tt0094675  A Finnish man goes to the city to find a job a...   \n",
       "1  tt0092149  Nikander, a rubbish collector and would-be ent...   \n",
       "2  tt0113101  It's Ted the Bellhop's first night on the job....   \n",
       "3  tt0107286  Four young friends, while taking a shortcut en...   \n",
       "4  tt0825671  Timo Novotny labels his new project an experim...   \n",
       "\n",
       "   averageRating  numVotes  \n",
       "0            7.4    9288.0  \n",
       "1            7.4    8116.0  \n",
       "2            6.7  114700.0  \n",
       "3            6.6   20163.0  \n",
       "4            8.1     285.0  "
      ]
     },
     "execution_count": 49,
     "metadata": {},
     "output_type": "execute_result"
    }
   ],
   "source": [
    "kaggle_df.head()"
   ]
  },
  {
   "cell_type": "code",
   "execution_count": 50,
   "id": "7a9bb86e-27d8-460c-b1f5-737f345a2aac",
   "metadata": {},
   "outputs": [],
   "source": [
    "merged_df.drop(columns = [\"averageRating\",\"numVotes\"],inplace=True)"
   ]
  },
  {
   "cell_type": "code",
   "execution_count": 51,
   "id": "348570fd-9cdb-4c42-9a65-4a17b54403c4",
   "metadata": {
    "editable": true,
    "slideshow": {
     "slide_type": ""
    },
    "tags": []
   },
   "outputs": [
    {
     "data": {
      "text/html": [
       "<div>\n",
       "<style scoped>\n",
       "    .dataframe tbody tr th:only-of-type {\n",
       "        vertical-align: middle;\n",
       "    }\n",
       "\n",
       "    .dataframe tbody tr th {\n",
       "        vertical-align: top;\n",
       "    }\n",
       "\n",
       "    .dataframe thead th {\n",
       "        text-align: right;\n",
       "    }\n",
       "</style>\n",
       "<table border=\"1\" class=\"dataframe\">\n",
       "  <thead>\n",
       "    <tr style=\"text-align: right;\">\n",
       "      <th></th>\n",
       "      <th>tconst</th>\n",
       "      <th>titleType</th>\n",
       "      <th>originalTitle</th>\n",
       "      <th>startYear</th>\n",
       "      <th>runtimeMinutes</th>\n",
       "      <th>genres</th>\n",
       "      <th>primaryName</th>\n",
       "      <th>movielens_rating</th>\n",
       "      <th>tag</th>\n",
       "    </tr>\n",
       "  </thead>\n",
       "  <tbody>\n",
       "    <tr>\n",
       "      <th>0</th>\n",
       "      <td>tt0000009</td>\n",
       "      <td>movie</td>\n",
       "      <td>Miss Jerry</td>\n",
       "      <td>1894</td>\n",
       "      <td>45</td>\n",
       "      <td>Romance</td>\n",
       "      <td>Alexander Black</td>\n",
       "      <td>NaN</td>\n",
       "      <td>NaN</td>\n",
       "    </tr>\n",
       "    <tr>\n",
       "      <th>1</th>\n",
       "      <td>tt0000147</td>\n",
       "      <td>movie</td>\n",
       "      <td>The Corbett-Fitzsimmons Fight</td>\n",
       "      <td>1897</td>\n",
       "      <td>100</td>\n",
       "      <td>Documentary,News,Sport</td>\n",
       "      <td>Enoch J. Rector</td>\n",
       "      <td>NaN</td>\n",
       "      <td>NaN</td>\n",
       "    </tr>\n",
       "    <tr>\n",
       "      <th>2</th>\n",
       "      <td>tt0000502</td>\n",
       "      <td>movie</td>\n",
       "      <td>Bohemios</td>\n",
       "      <td>1905</td>\n",
       "      <td>100</td>\n",
       "      <td>\\N</td>\n",
       "      <td>Ricardo de Baños</td>\n",
       "      <td>NaN</td>\n",
       "      <td>NaN</td>\n",
       "    </tr>\n",
       "    <tr>\n",
       "      <th>3</th>\n",
       "      <td>tt0000574</td>\n",
       "      <td>movie</td>\n",
       "      <td>The Story of the Kelly Gang</td>\n",
       "      <td>1906</td>\n",
       "      <td>70</td>\n",
       "      <td>Action,Adventure,Biography</td>\n",
       "      <td>Charles Tait</td>\n",
       "      <td>2.5</td>\n",
       "      <td>partially lost film, silent film</td>\n",
       "    </tr>\n",
       "    <tr>\n",
       "      <th>4</th>\n",
       "      <td>tt0000591</td>\n",
       "      <td>movie</td>\n",
       "      <td>L'enfant prodigue</td>\n",
       "      <td>1907</td>\n",
       "      <td>90</td>\n",
       "      <td>Drama</td>\n",
       "      <td>Michel Carré</td>\n",
       "      <td>NaN</td>\n",
       "      <td>NaN</td>\n",
       "    </tr>\n",
       "  </tbody>\n",
       "</table>\n",
       "</div>"
      ],
      "text/plain": [
       "      tconst titleType                  originalTitle startYear  \\\n",
       "0  tt0000009     movie                     Miss Jerry      1894   \n",
       "1  tt0000147     movie  The Corbett-Fitzsimmons Fight      1897   \n",
       "2  tt0000502     movie                       Bohemios      1905   \n",
       "3  tt0000574     movie    The Story of the Kelly Gang      1906   \n",
       "4  tt0000591     movie              L'enfant prodigue      1907   \n",
       "\n",
       "  runtimeMinutes                      genres       primaryName  \\\n",
       "0             45                     Romance   Alexander Black   \n",
       "1            100      Documentary,News,Sport   Enoch J. Rector   \n",
       "2            100                          \\N  Ricardo de Baños   \n",
       "3             70  Action,Adventure,Biography      Charles Tait   \n",
       "4             90                       Drama      Michel Carré   \n",
       "\n",
       "   movielens_rating                               tag  \n",
       "0               NaN                               NaN  \n",
       "1               NaN                               NaN  \n",
       "2               NaN                               NaN  \n",
       "3               2.5  partially lost film, silent film  \n",
       "4               NaN                               NaN  "
      ]
     },
     "execution_count": 51,
     "metadata": {},
     "output_type": "execute_result"
    }
   ],
   "source": [
    "merged_df.head()"
   ]
  },
  {
   "cell_type": "code",
   "execution_count": 52,
   "id": "a0aeaea4-6c09-4b95-9f9a-3e07b658e30a",
   "metadata": {},
   "outputs": [],
   "source": [
    "merged_df = merged_df.merge(kaggle_df, on=\"tconst\", how=\"left\")"
   ]
  },
  {
   "cell_type": "markdown",
   "id": "52755fd2-43bf-4416-820b-6e5bdf584085",
   "metadata": {},
   "source": [
    "### Data Visualization"
   ]
  },
  {
   "cell_type": "code",
   "execution_count": 53,
   "id": "cf696e68-686e-4731-8089-f6e260a2c042",
   "metadata": {},
   "outputs": [],
   "source": [
    "import seaborn as sns"
   ]
  },
  {
   "cell_type": "code",
   "execution_count": 54,
   "id": "555c9a51-6655-4721-be70-926635ba0d67",
   "metadata": {},
   "outputs": [
    {
     "data": {
      "text/plain": [
       "<Axes: xlabel='averageRating', ylabel='numVotes'>"
      ]
     },
     "execution_count": 54,
     "metadata": {},
     "output_type": "execute_result"
    },
    {
     "data": {
      "image/png": "[encoded data removed]",
      "text/plain": [
       "<Figure size 640x480 with 1 Axes>"
      ]
     },
     "metadata": {},
     "output_type": "display_data"
    }
   ],
   "source": [
    "sns.scatterplot(merged_df,x=\"averageRating\",y=\"numVotes\",alpha = 0.3)"
   ]
  },
  {
   "cell_type": "code",
   "execution_count": 55,
   "id": "a48d7d51-06b4-413b-989f-0f2947df3b18",
   "metadata": {},
   "outputs": [],
   "source": [
    "import chromadb.utils.embedding_functions as embedding_functions\n"
   ]
  },
  {
   "cell_type": "code",
   "execution_count": 56,
   "id": "886f64a8-b13a-468c-bb4f-715910c0476b",
   "metadata": {},
   "outputs": [],
   "source": [
    "merged_df.rename(columns={'primaryName':'director'},inplace=True)"
   ]
  },
  {
   "cell_type": "code",
   "execution_count": 58,
   "id": "04ef618f-17d3-4dc0-83ee-f9f7981558b0",
   "metadata": {
    "editable": true,
    "slideshow": {
     "slide_type": ""
    },
    "tags": []
   },
   "outputs": [
    {
     "data": {
      "text/html": [
       "<div>\n",
       "<style scoped>\n",
       "    .dataframe tbody tr th:only-of-type {\n",
       "        vertical-align: middle;\n",
       "    }\n",
       "\n",
       "    .dataframe tbody tr th {\n",
       "        vertical-align: top;\n",
       "    }\n",
       "\n",
       "    .dataframe thead th {\n",
       "        text-align: right;\n",
       "    }\n",
       "</style>\n",
       "<table border=\"1\" class=\"dataframe\">\n",
       "  <thead>\n",
       "    <tr style=\"text-align: right;\">\n",
       "      <th></th>\n",
       "      <th>tconst</th>\n",
       "      <th>titleType</th>\n",
       "      <th>originalTitle</th>\n",
       "      <th>startYear</th>\n",
       "      <th>runtimeMinutes</th>\n",
       "      <th>genres</th>\n",
       "      <th>director</th>\n",
       "      <th>movielens_rating</th>\n",
       "      <th>tag</th>\n",
       "      <th>overview</th>\n",
       "      <th>averageRating</th>\n",
       "      <th>numVotes</th>\n",
       "    </tr>\n",
       "  </thead>\n",
       "  <tbody>\n",
       "    <tr>\n",
       "      <th>0</th>\n",
       "      <td>tt0000009</td>\n",
       "      <td>movie</td>\n",
       "      <td>Miss Jerry</td>\n",
       "      <td>1894</td>\n",
       "      <td>45</td>\n",
       "      <td>Romance</td>\n",
       "      <td>Alexander Black</td>\n",
       "      <td>NaN</td>\n",
       "      <td>NaN</td>\n",
       "      <td>The adventures of a female reporter in the 1890s.</td>\n",
       "      <td>5.4</td>\n",
       "      <td>227.0</td>\n",
       "    </tr>\n",
       "    <tr>\n",
       "      <th>1</th>\n",
       "      <td>tt0000147</td>\n",
       "      <td>movie</td>\n",
       "      <td>The Corbett-Fitzsimmons Fight</td>\n",
       "      <td>1897</td>\n",
       "      <td>100</td>\n",
       "      <td>Documentary,News,Sport</td>\n",
       "      <td>Enoch J. Rector</td>\n",
       "      <td>NaN</td>\n",
       "      <td>NaN</td>\n",
       "      <td>This legendary fight was filmed on March 17, 1...</td>\n",
       "      <td>5.3</td>\n",
       "      <td>563.0</td>\n",
       "    </tr>\n",
       "    <tr>\n",
       "      <th>2</th>\n",
       "      <td>tt0000502</td>\n",
       "      <td>movie</td>\n",
       "      <td>Bohemios</td>\n",
       "      <td>1905</td>\n",
       "      <td>100</td>\n",
       "      <td>\\N</td>\n",
       "      <td>Ricardo de Baños</td>\n",
       "      <td>NaN</td>\n",
       "      <td>NaN</td>\n",
       "      <td>NaN</td>\n",
       "      <td>NaN</td>\n",
       "      <td>NaN</td>\n",
       "    </tr>\n",
       "    <tr>\n",
       "      <th>3</th>\n",
       "      <td>tt0000574</td>\n",
       "      <td>movie</td>\n",
       "      <td>The Story of the Kelly Gang</td>\n",
       "      <td>1906</td>\n",
       "      <td>70</td>\n",
       "      <td>Action,Adventure,Biography</td>\n",
       "      <td>Charles Tait</td>\n",
       "      <td>2.5</td>\n",
       "      <td>partially lost film, silent film</td>\n",
       "      <td>Just as Galeen and Wegener's Der Golem (1915) ...</td>\n",
       "      <td>6.0</td>\n",
       "      <td>1005.0</td>\n",
       "    </tr>\n",
       "    <tr>\n",
       "      <th>4</th>\n",
       "      <td>tt0000591</td>\n",
       "      <td>movie</td>\n",
       "      <td>L'enfant prodigue</td>\n",
       "      <td>1907</td>\n",
       "      <td>90</td>\n",
       "      <td>Drama</td>\n",
       "      <td>Michel Carré</td>\n",
       "      <td>NaN</td>\n",
       "      <td>NaN</td>\n",
       "      <td>The first feature-length motion picture produc...</td>\n",
       "      <td>5.4</td>\n",
       "      <td>33.0</td>\n",
       "    </tr>\n",
       "  </tbody>\n",
       "</table>\n",
       "</div>"
      ],
      "text/plain": [
       "      tconst titleType                  originalTitle startYear  \\\n",
       "0  tt0000009     movie                     Miss Jerry      1894   \n",
       "1  tt0000147     movie  The Corbett-Fitzsimmons Fight      1897   \n",
       "2  tt0000502     movie                       Bohemios      1905   \n",
       "3  tt0000574     movie    The Story of the Kelly Gang      1906   \n",
       "4  tt0000591     movie              L'enfant prodigue      1907   \n",
       "\n",
       "  runtimeMinutes                      genres          director  \\\n",
       "0             45                     Romance   Alexander Black   \n",
       "1            100      Documentary,News,Sport   Enoch J. Rector   \n",
       "2            100                          \\N  Ricardo de Baños   \n",
       "3             70  Action,Adventure,Biography      Charles Tait   \n",
       "4             90                       Drama      Michel Carré   \n",
       "\n",
       "   movielens_rating                               tag  \\\n",
       "0               NaN                               NaN   \n",
       "1               NaN                               NaN   \n",
       "2               NaN                               NaN   \n",
       "3               2.5  partially lost film, silent film   \n",
       "4               NaN                               NaN   \n",
       "\n",
       "                                            overview  averageRating  numVotes  \n",
       "0  The adventures of a female reporter in the 1890s.            5.4     227.0  \n",
       "1  This legendary fight was filmed on March 17, 1...            5.3     563.0  \n",
       "2                                                NaN            NaN       NaN  \n",
       "3  Just as Galeen and Wegener's Der Golem (1915) ...            6.0    1005.0  \n",
       "4  The first feature-length motion picture produc...            5.4      33.0  "
      ]
     },
     "execution_count": 58,
     "metadata": {},
     "output_type": "execute_result"
    }
   ],
   "source": [
    "merged_df.head()"
   ]
  },
  {
   "cell_type": "code",
   "execution_count": 79,
   "id": "30133e31-57ec-4ecc-8af4-7d9b8827aafd",
   "metadata": {
    "editable": true,
    "slideshow": {
     "slide_type": ""
    },
    "tags": []
   },
   "outputs": [],
   "source": [
    "merged_df.dropna(subset=['tag', 'overview'],how =\"all\",inplace=True)\n"
   ]
  },
  {
   "cell_type": "code",
   "execution_count": 81,
   "id": "b890ff58-145f-43ff-932a-047e5469f393",
   "metadata": {},
   "outputs": [
    {
     "data": {
      "text/html": [
       "<div>\n",
       "<style scoped>\n",
       "    .dataframe tbody tr th:only-of-type {\n",
       "        vertical-align: middle;\n",
       "    }\n",
       "\n",
       "    .dataframe tbody tr th {\n",
       "        vertical-align: top;\n",
       "    }\n",
       "\n",
       "    .dataframe thead th {\n",
       "        text-align: right;\n",
       "    }\n",
       "</style>\n",
       "<table border=\"1\" class=\"dataframe\">\n",
       "  <thead>\n",
       "    <tr style=\"text-align: right;\">\n",
       "      <th></th>\n",
       "      <th>tconst</th>\n",
       "      <th>titleType</th>\n",
       "      <th>originalTitle</th>\n",
       "      <th>startYear</th>\n",
       "      <th>runtimeMinutes</th>\n",
       "      <th>genres</th>\n",
       "      <th>director</th>\n",
       "      <th>movielens_rating</th>\n",
       "      <th>tag</th>\n",
       "      <th>overview</th>\n",
       "      <th>averageRating</th>\n",
       "      <th>numVotes</th>\n",
       "    </tr>\n",
       "  </thead>\n",
       "  <tbody>\n",
       "    <tr>\n",
       "      <th>0</th>\n",
       "      <td>tt0000009</td>\n",
       "      <td>movie</td>\n",
       "      <td>Miss Jerry</td>\n",
       "      <td>1894</td>\n",
       "      <td>45</td>\n",
       "      <td>Romance</td>\n",
       "      <td>Alexander Black</td>\n",
       "      <td>NaN</td>\n",
       "      <td>NaN</td>\n",
       "      <td>The adventures of a female reporter in the 1890s.</td>\n",
       "      <td>5.4</td>\n",
       "      <td>227.0</td>\n",
       "    </tr>\n",
       "    <tr>\n",
       "      <th>1</th>\n",
       "      <td>tt0000147</td>\n",
       "      <td>movie</td>\n",
       "      <td>The Corbett-Fitzsimmons Fight</td>\n",
       "      <td>1897</td>\n",
       "      <td>100</td>\n",
       "      <td>Documentary,News,Sport</td>\n",
       "      <td>Enoch J. Rector</td>\n",
       "      <td>NaN</td>\n",
       "      <td>NaN</td>\n",
       "      <td>This legendary fight was filmed on March 17, 1...</td>\n",
       "      <td>5.3</td>\n",
       "      <td>563.0</td>\n",
       "    </tr>\n",
       "    <tr>\n",
       "      <th>3</th>\n",
       "      <td>tt0000574</td>\n",
       "      <td>movie</td>\n",
       "      <td>The Story of the Kelly Gang</td>\n",
       "      <td>1906</td>\n",
       "      <td>70</td>\n",
       "      <td>Action,Adventure,Biography</td>\n",
       "      <td>Charles Tait</td>\n",
       "      <td>2.5</td>\n",
       "      <td>partially lost film, silent film</td>\n",
       "      <td>Just as Galeen and Wegener's Der Golem (1915) ...</td>\n",
       "      <td>6.0</td>\n",
       "      <td>1005.0</td>\n",
       "    </tr>\n",
       "    <tr>\n",
       "      <th>4</th>\n",
       "      <td>tt0000591</td>\n",
       "      <td>movie</td>\n",
       "      <td>L'enfant prodigue</td>\n",
       "      <td>1907</td>\n",
       "      <td>90</td>\n",
       "      <td>Drama</td>\n",
       "      <td>Michel Carré</td>\n",
       "      <td>NaN</td>\n",
       "      <td>NaN</td>\n",
       "      <td>The first feature-length motion picture produc...</td>\n",
       "      <td>5.4</td>\n",
       "      <td>33.0</td>\n",
       "    </tr>\n",
       "    <tr>\n",
       "      <th>5</th>\n",
       "      <td>tt0000615</td>\n",
       "      <td>movie</td>\n",
       "      <td>Robbery Under Arms</td>\n",
       "      <td>1907</td>\n",
       "      <td>\\N</td>\n",
       "      <td>Drama</td>\n",
       "      <td>Charles MacMahon</td>\n",
       "      <td>NaN</td>\n",
       "      <td>NaN</td>\n",
       "      <td>Australian bushranger movie.  The first filmed...</td>\n",
       "      <td>4.0</td>\n",
       "      <td>30.0</td>\n",
       "    </tr>\n",
       "  </tbody>\n",
       "</table>\n",
       "</div>"
      ],
      "text/plain": [
       "      tconst titleType                  originalTitle startYear  \\\n",
       "0  tt0000009     movie                     Miss Jerry      1894   \n",
       "1  tt0000147     movie  The Corbett-Fitzsimmons Fight      1897   \n",
       "3  tt0000574     movie    The Story of the Kelly Gang      1906   \n",
       "4  tt0000591     movie              L'enfant prodigue      1907   \n",
       "5  tt0000615     movie             Robbery Under Arms      1907   \n",
       "\n",
       "  runtimeMinutes                      genres          director  \\\n",
       "0             45                     Romance   Alexander Black   \n",
       "1            100      Documentary,News,Sport   Enoch J. Rector   \n",
       "3             70  Action,Adventure,Biography      Charles Tait   \n",
       "4             90                       Drama      Michel Carré   \n",
       "5             \\N                       Drama  Charles MacMahon   \n",
       "\n",
       "   movielens_rating                               tag  \\\n",
       "0               NaN                               NaN   \n",
       "1               NaN                               NaN   \n",
       "3               2.5  partially lost film, silent film   \n",
       "4               NaN                               NaN   \n",
       "5               NaN                               NaN   \n",
       "\n",
       "                                            overview  averageRating  numVotes  \n",
       "0  The adventures of a female reporter in the 1890s.            5.4     227.0  \n",
       "1  This legendary fight was filmed on March 17, 1...            5.3     563.0  \n",
       "3  Just as Galeen and Wegener's Der Golem (1915) ...            6.0    1005.0  \n",
       "4  The first feature-length motion picture produc...            5.4      33.0  \n",
       "5  Australian bushranger movie.  The first filmed...            4.0      30.0  "
      ]
     },
     "execution_count": 81,
     "metadata": {},
     "output_type": "execute_result"
    }
   ],
   "source": [
    "merged_df.head()"
   ]
  },
  {
   "cell_type": "code",
   "execution_count": 82,
   "id": "a4ae5a27-5d8c-493b-84d3-20605556aa76",
   "metadata": {},
   "outputs": [
    {
     "data": {
      "text/plain": [
       "tconst                   0\n",
       "titleType                0\n",
       "originalTitle            0\n",
       "startYear                0\n",
       "runtimeMinutes           0\n",
       "genres                   0\n",
       "director             39790\n",
       "movielens_rating    291298\n",
       "tag                 321728\n",
       "overview               129\n",
       "averageRating        63067\n",
       "numVotes             63067\n",
       "dtype: int64"
      ]
     },
     "execution_count": 82,
     "metadata": {},
     "output_type": "execute_result"
    }
   ],
   "source": [
    "merged_df.isnull().sum()"
   ]
  },
  {
   "cell_type": "code",
   "execution_count": null,
   "id": "56d5a7cb-0b99-469f-af44-cbc46e0c3845",
   "metadata": {},
   "outputs": [
    {
     "name": "stdout",
     "output_type": "stream",
     "text": [
      "Toplam 365672 belge işlenecek.\n",
      "Her bir işlemde 5461 belge eklenecek (batch size).\n",
      "bir batch daha eklendi\n"
     ]
    }
   ],
   "source": [
    "import pandas as pd\n",
    "from tqdm import tqdm\n",
    "import chromadb\n",
    "from sentence_transformers import SentenceTransformer\n",
    "from chromadb.utils import embedding_functions\n",
    " \n",
    "\n",
    "chroma_client = chromadb.PersistentClient(path=\"./long_term_memory\")  \n",
    "collection = chroma_client.create_collection(\n",
    "    name=\"imdb_data\",\n",
    "    embedding_function=embedding_functions.SentenceTransformerEmbeddingFunction(model_name=\"Alibaba-NLP/gte-multilingual-base\",trust_remote_code = True)\n",
    ")\n",
    "\n",
    "\n",
    "# 3. Metin Oluştur ve Gömme Yap fonksiyonu (bu kısım aynı kalabilir)\n",
    "import pandas as pd\n",
    "\n",
    "def create_vector_document(row):\n",
    "    \"\"\"Create structured content for vector database\"\"\"\n",
    "    content_parts = []\n",
    "    \n",
    "\n",
    "    content_parts.append(f\"Title: {row['originalTitle']}\")\n",
    "    content_parts.append(f\"Title Type: {row['titleType']}\")\n",
    "    content_parts.append(f\"Genres: {row['genres']}\")\n",
    "    content_parts.append(f\"Year: {row['startYear']}\")\n",
    "    content_parts.append(f\"Runtime: {row['runtimeMinutes']} minutes\")\n",
    "    \n",
    "    # Director (if available)\n",
    "    if pd.notna(row['director']):\n",
    "        content_parts.append(f\"Director: {row['director']}\")\n",
    "    \n",
    "    # Movie Overview (Summary)\n",
    "    if pd.notna(row['overview']):\n",
    "        content_parts.append(f\"Overview: {row['overview']}\")\n",
    "    \n",
    "    # Average Rating\n",
    "    if pd.notna(row['averageRating']):\n",
    "        content_parts.append(f\"Imdb Rating: {row['averageRating']}\")\n",
    "    \n",
    "    # Number of Votes\n",
    "    if pd.notna(row['numVotes']):\n",
    "        content_parts.append(f\"Number of Votes: {row['numVotes']}\")\n",
    "    \n",
    "    # MovieLens Rating (if available)\n",
    "    if pd.notna(row['movielens_rating']):\n",
    "        content_parts.append(f\"MovieLens Rating: {row['movielens_rating']}\")\n",
    "    \n",
    "    # Tag (if available)\n",
    "    if pd.notna(row['tag']):\n",
    "        content_parts.append(f\"Tag: {row['tag']}\")\n",
    "        \n",
    "    metadata = {\"originalTitle\": row['originalTitle'],\n",
    "                \"genre\": row['genres'],\n",
    "                \"titleType\": row['titleType']}\n",
    "    # Returning a structured document ready for vector DB\n",
    "    return {\n",
    "        \"id\": row['tconst'],\n",
    "        \"document\": \" | \".join(content_parts),  # Document as a concatenation of relevant text parts\n",
    "        \"metadata\": metadata  # Metadata with only ID and Original Title\n",
    "    }\n",
    "\n",
    "### Optimize Edilmiş Veri Ekleme Kodu\n",
    "\n",
    "BATCH_SIZE = 5461 \n",
    "print(f\"Toplam {len(merged_df)} belge işlenecek.\")\n",
    "print(f\"Her bir işlemde {BATCH_SIZE} belge eklenecek (batch size).\")\n",
    "\n",
    "# merged_df'i belirtilen BATCH_SIZE'a göre parçalara ayırıyoruz\n",
    "# ve her parçayı tqdm ile ilerleme çubuğunda gösteriyoruz\n",
    "for i in (range(0, len(merged_df), BATCH_SIZE)):\n",
    "    # Mevcut batch için DataFrame dilimini al\n",
    "    batch_df = merged_df.iloc[i : i + BATCH_SIZE]\n",
    "\n",
    "    # Bu batch'e ait belgeleri, metadatayı ve ID'leri tutacak listeler\n",
    "    batch_documents = []\n",
    "    batch_metadatas = []\n",
    "    batch_ids = []\n",
    "\n",
    "    # Mevcut batch'teki her satır için belge oluştur\n",
    "    for _, row in batch_df.iterrows():\n",
    "        doc = create_vector_document(row)\n",
    "        batch_documents.append(doc[\"document\"])\n",
    "        batch_metadatas.append(doc[\"metadata\"])\n",
    "        batch_ids.append(doc[\"id\"])\n",
    "\n",
    "    # Oluşturulan batch'i ChromaDB'ye ekle\n",
    "    try:\n",
    "        collection.add(\n",
    "            documents=batch_documents,\n",
    "            metadatas=batch_metadatas,\n",
    "            ids=batch_ids\n",
    "        )\n",
    "        print(\"bir batch daha eklendi\")\n",
    "              \n",
    "    except Exception as e:\n",
    "        print(f\"\\nBatch eklenirken bir hata oluştu (başlangıç indeksi: {i}): {e}\")\n",
    "        # Hata yönetimi (örn. bu batch'i atla veya tekrar dene) burada yapılabilir\n",
    "        \n",
    "print(\"\\nTüm belgeler ChromaDB'ye başarıyla eklendi (veya tamamlandı).\")"
   ]
  },
  {
   "cell_type": "code",
   "execution_count": null,
   "id": "caffe9a4-74da-41ec-839b-e847f3789c14",
   "metadata": {},
   "outputs": [],
   "source": []
  }
 ],
 "metadata": {
  "environment": {
   "kernel": "conda-base-py",
   "name": "workbench-notebooks.m131",
   "type": "gcloud",
   "uri": "us-docker.pkg.dev/deeplearning-platform-release/gcr.io/workbench-notebooks:m131"
  },
  "kernelspec": {
   "display_name": "Python 3 (ipykernel) (Local)",
   "language": "python",
   "name": "conda-base-py"
  },
  "language_info": {
   "codemirror_mode": {
    "name": "ipython",
    "version": 3
   },
   "file_extension": ".py",
   "mimetype": "text/x-python",
   "name": "python",
   "nbconvert_exporter": "python",
   "pygments_lexer": "ipython3",
   "version": "3.10.18"
  }
 },
 "nbformat": 4,
 "nbformat_minor": 5
}
